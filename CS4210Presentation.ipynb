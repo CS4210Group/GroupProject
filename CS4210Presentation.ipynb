{
  "cells": [
    {
      "cell_type": "markdown",
      "metadata": {
        "id": "fe7KIBEtYreS"
      },
      "source": [
        "###### Kevin Kim, Jeffrey Ni, Eric Yo\n",
        "###### Professor Amamra\n",
        "###### CS 4210.01\n",
        "###### 12 March 2024\n",
        "<h3 align=\"center\">CS4210 Presentation</h3>"
      ]
    },
    {
      "cell_type": "markdown",
      "metadata": {
        "id": "yT8E-xK8Y4YK"
      },
      "source": [
        "### Step 1: Import Necessary Libraries."
      ]
    },
    {
      "cell_type": "code",
      "execution_count": null,
      "metadata": {
        "id": "l6PAj2L2Y7Ix"
      },
      "outputs": [],
      "source": [
        "import pandas as pd\n",
        "import numpy as np\n",
        "import cv2\n",
        "import matplotlib.pyplot as plt\n",
        "\n",
        "from glob import glob"
      ]
    },
    {
      "cell_type": "markdown",
      "metadata": {
        "id": "gQXp5cDsY-Xv"
      },
      "source": [
        "### Step 2: Read in Images."
      ]
    },
    {
      "cell_type": "code",
      "execution_count": null,
      "metadata": {
        "id": "0fhBHY6vZCVO"
      },
      "outputs": [],
      "source": []
    }
  ],
  "metadata": {
    "colab": {
      "provenance": []
    },
    "kernelspec": {
      "display_name": "Python 3",
      "name": "python3"
    },
    "language_info": {
      "name": "python"
    }
  },
  "nbformat": 4,
  "nbformat_minor": 0
}
